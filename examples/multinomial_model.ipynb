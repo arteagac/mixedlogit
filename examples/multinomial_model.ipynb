{
  "nbformat": 4,
  "nbformat_minor": 0,
  "metadata": {
    "colab": {
      "name": "multinomial_model.ipynb",
      "provenance": [],
      "authorship_tag": "ABX9TyPGmUJWtfxeSqt8Vq+kt67c",
      "include_colab_link": true
    },
    "kernelspec": {
      "name": "python3",
      "display_name": "Python 3"
    }
  },
  "cells": [
    {
      "cell_type": "markdown",
      "metadata": {
        "id": "view-in-github",
        "colab_type": "text"
      },
      "source": [
        "<a href=\"https://colab.research.google.com/github/arteagac/mixedlogit/blob/master/examples/multinomial_model.ipynb\" target=\"_parent\"><img src=\"https://colab.research.google.com/assets/colab-badge.svg\" alt=\"Open In Colab\"/></a>"
      ]
    },
    {
      "cell_type": "markdown",
      "metadata": {
        "id": "is9MSL-AkK9G",
        "colab_type": "text"
      },
      "source": [
        "## Install package"
      ]
    },
    {
      "cell_type": "code",
      "metadata": {
        "id": "36ZQw8iIkDib",
        "colab_type": "code",
        "colab": {
          "base_uri": "https://localhost:8080/",
          "height": 121
        },
        "outputId": "6c9e5a28-2e9f-4bcb-88fa-582344adf87e"
      },
      "source": [
        "!pip install mixedlogit"
      ],
      "execution_count": 1,
      "outputs": [
        {
          "output_type": "stream",
          "text": [
            "Collecting pymlogit\n",
            "  Downloading https://files.pythonhosted.org/packages/69/8d/1f9733d24145436ea6ae46c7cf810d4fd462a3d39fba72963bf90d40dde0/pymlogit-0.0.2-py3-none-any.whl\n",
            "Requirement already satisfied: scipy>=1.0.0 in /usr/local/lib/python3.6/dist-packages (from pymlogit) (1.4.1)\n",
            "Requirement already satisfied: numpy>=1.13.1 in /usr/local/lib/python3.6/dist-packages (from pymlogit) (1.18.4)\n",
            "Installing collected packages: pymlogit\n",
            "Successfully installed pymlogit-0.0.2\n"
          ],
          "name": "stdout"
        }
      ]
    },
    {
      "cell_type": "markdown",
      "metadata": {
        "id": "CUDXAA26kOfK",
        "colab_type": "text"
      },
      "source": [
        "## Read data using pandas"
      ]
    },
    {
      "cell_type": "code",
      "metadata": {
        "id": "B5JFuzuIkIig",
        "colab_type": "code",
        "colab": {
          "base_uri": "https://localhost:8080/",
          "height": 424
        },
        "outputId": "a63335b6-a587-469b-87a4-d95bbc980eb4"
      },
      "source": [
        "import pandas as pd\n",
        "data_file = \"https://raw.githubusercontent.com/arteagac/mixedlogit/master/examples/data/fishing_long.csv\"\n",
        "df = pd.read_csv(data_file)\n",
        "df"
      ],
      "execution_count": 12,
      "outputs": [
        {
          "output_type": "execute_result",
          "data": {
            "text/html": [
              "<div>\n",
              "<style scoped>\n",
              "    .dataframe tbody tr th:only-of-type {\n",
              "        vertical-align: middle;\n",
              "    }\n",
              "\n",
              "    .dataframe tbody tr th {\n",
              "        vertical-align: top;\n",
              "    }\n",
              "\n",
              "    .dataframe thead th {\n",
              "        text-align: right;\n",
              "    }\n",
              "</style>\n",
              "<table border=\"1\" class=\"dataframe\">\n",
              "  <thead>\n",
              "    <tr style=\"text-align: right;\">\n",
              "      <th></th>\n",
              "      <th>choice_id</th>\n",
              "      <th>alternative</th>\n",
              "      <th>choice</th>\n",
              "      <th>income</th>\n",
              "      <th>price</th>\n",
              "      <th>catch</th>\n",
              "    </tr>\n",
              "  </thead>\n",
              "  <tbody>\n",
              "    <tr>\n",
              "      <th>0</th>\n",
              "      <td>1</td>\n",
              "      <td>beach</td>\n",
              "      <td>0</td>\n",
              "      <td>7083.33170</td>\n",
              "      <td>157.930</td>\n",
              "      <td>0.0678</td>\n",
              "    </tr>\n",
              "    <tr>\n",
              "      <th>1</th>\n",
              "      <td>1</td>\n",
              "      <td>boat</td>\n",
              "      <td>0</td>\n",
              "      <td>7083.33170</td>\n",
              "      <td>157.930</td>\n",
              "      <td>0.2601</td>\n",
              "    </tr>\n",
              "    <tr>\n",
              "      <th>2</th>\n",
              "      <td>1</td>\n",
              "      <td>charter</td>\n",
              "      <td>1</td>\n",
              "      <td>7083.33170</td>\n",
              "      <td>182.930</td>\n",
              "      <td>0.5391</td>\n",
              "    </tr>\n",
              "    <tr>\n",
              "      <th>3</th>\n",
              "      <td>1</td>\n",
              "      <td>pier</td>\n",
              "      <td>0</td>\n",
              "      <td>7083.33170</td>\n",
              "      <td>157.930</td>\n",
              "      <td>0.0503</td>\n",
              "    </tr>\n",
              "    <tr>\n",
              "      <th>4</th>\n",
              "      <td>2</td>\n",
              "      <td>beach</td>\n",
              "      <td>0</td>\n",
              "      <td>1249.99980</td>\n",
              "      <td>15.114</td>\n",
              "      <td>0.1049</td>\n",
              "    </tr>\n",
              "    <tr>\n",
              "      <th>...</th>\n",
              "      <td>...</td>\n",
              "      <td>...</td>\n",
              "      <td>...</td>\n",
              "      <td>...</td>\n",
              "      <td>...</td>\n",
              "      <td>...</td>\n",
              "    </tr>\n",
              "    <tr>\n",
              "      <th>4723</th>\n",
              "      <td>1181</td>\n",
              "      <td>pier</td>\n",
              "      <td>0</td>\n",
              "      <td>416.66668</td>\n",
              "      <td>36.636</td>\n",
              "      <td>0.4522</td>\n",
              "    </tr>\n",
              "    <tr>\n",
              "      <th>4724</th>\n",
              "      <td>1182</td>\n",
              "      <td>beach</td>\n",
              "      <td>0</td>\n",
              "      <td>6250.00130</td>\n",
              "      <td>339.890</td>\n",
              "      <td>0.2537</td>\n",
              "    </tr>\n",
              "    <tr>\n",
              "      <th>4725</th>\n",
              "      <td>1182</td>\n",
              "      <td>boat</td>\n",
              "      <td>1</td>\n",
              "      <td>6250.00130</td>\n",
              "      <td>235.436</td>\n",
              "      <td>0.6817</td>\n",
              "    </tr>\n",
              "    <tr>\n",
              "      <th>4726</th>\n",
              "      <td>1182</td>\n",
              "      <td>charter</td>\n",
              "      <td>0</td>\n",
              "      <td>6250.00130</td>\n",
              "      <td>260.436</td>\n",
              "      <td>2.3014</td>\n",
              "    </tr>\n",
              "    <tr>\n",
              "      <th>4727</th>\n",
              "      <td>1182</td>\n",
              "      <td>pier</td>\n",
              "      <td>0</td>\n",
              "      <td>6250.00130</td>\n",
              "      <td>339.890</td>\n",
              "      <td>0.1498</td>\n",
              "    </tr>\n",
              "  </tbody>\n",
              "</table>\n",
              "<p>4728 rows × 6 columns</p>\n",
              "</div>"
            ],
            "text/plain": [
              "      choice_id alternative  choice      income    price   catch\n",
              "0             1       beach       0  7083.33170  157.930  0.0678\n",
              "1             1        boat       0  7083.33170  157.930  0.2601\n",
              "2             1     charter       1  7083.33170  182.930  0.5391\n",
              "3             1        pier       0  7083.33170  157.930  0.0503\n",
              "4             2       beach       0  1249.99980   15.114  0.1049\n",
              "...         ...         ...     ...         ...      ...     ...\n",
              "4723       1181        pier       0   416.66668   36.636  0.4522\n",
              "4724       1182       beach       0  6250.00130  339.890  0.2537\n",
              "4725       1182        boat       1  6250.00130  235.436  0.6817\n",
              "4726       1182     charter       0  6250.00130  260.436  2.3014\n",
              "4727       1182        pier       0  6250.00130  339.890  0.1498\n",
              "\n",
              "[4728 rows x 6 columns]"
            ]
          },
          "metadata": {
            "tags": []
          },
          "execution_count": 12
        }
      ]
    },
    {
      "cell_type": "markdown",
      "metadata": {
        "id": "ccxZM9l2k2H8",
        "colab_type": "text"
      },
      "source": [
        "## Import Choice Model"
      ]
    },
    {
      "cell_type": "code",
      "metadata": {
        "id": "-Yuwo8K0k6Wh",
        "colab_type": "code",
        "colab": {}
      },
      "source": [
        "from mixedlogit import ChoiceModel"
      ],
      "execution_count": 0,
      "outputs": []
    },
    {
      "cell_type": "markdown",
      "metadata": {
        "id": "lWRwZ4KLkqhg",
        "colab_type": "text"
      },
      "source": [
        "## Estimate model with both alternative specific and individual specific variables"
      ]
    },
    {
      "cell_type": "code",
      "metadata": {
        "id": "JnYczrXDksg5",
        "colab_type": "code",
        "colab": {
          "base_uri": "https://localhost:8080/",
          "height": 278
        },
        "outputId": "b6011911-a302-4506-a72c-7ac352768d19"
      },
      "source": [
        "varnames = ['income','price']\n",
        "X = df[varnames].values\n",
        "y = df['choice'].values\n",
        "\n",
        "model = ChoiceModel()\n",
        "model.fit(X,y,isvars = ['income'], asvars=['price'],alternatives=['beach','boat','charter','pier'],varnames= varnames)\n",
        "model.summary()"
      ],
      "execution_count": 10,
      "outputs": [
        {
          "output_type": "stream",
          "text": [
            "Optimization succesfully completed after 11 iterations. Use .summary() to see the estimated values\n",
            "-----------------------------------------------------------------------------------------\n",
            "Coefficient          \tEstimate \tStd. Error \tz-value \tPr(>|z|)     \n",
            "-----------------------------------------------------------------------------------------\n",
            "_intercept.boat  \t0.4928935957 \t0.2053370982 \t2.4004118111 \t0.0449401617 .    \n",
            "_intercept.charter \t1.8540668405 \t0.2097451458 \t8.8396173995 \t0.0000000000 ***  \n",
            "_intercept.pier  \t0.7526662342 \t0.2042533633 \t3.6849637242 \t0.0009279897 **   \n",
            "income.boat      \t0.0000933295 \t0.0000471101 \t1.9810953073 \t0.1122778277      \n",
            "income.charter   \t-0.0000324867 \t0.0000478462 \t-0.6789828929 \t0.6333945307      \n",
            "income.pier      \t-0.0001267191 \t0.0000465724 \t-2.7209078124 \t0.0198559789 .    \n",
            "price            \t-0.0255642838 \t0.0015153615 \t-16.8700891463 \t0.0000000000 ***  \n",
            "-----------------------------------------------------------------------------------------\n",
            "Significance:  *** 0    ** 0.001    * 0.01    . 0.05\n",
            "\n",
            "Log-Likelihood= -1220.535\n"
          ],
          "name": "stdout"
        }
      ]
    },
    {
      "cell_type": "markdown",
      "metadata": {
        "id": "xdSnyepIlMKl",
        "colab_type": "text"
      },
      "source": [
        "## Estimate model with only individual specific variables\n"
      ]
    },
    {
      "cell_type": "code",
      "metadata": {
        "id": "qiGiAEkdlQMq",
        "colab_type": "code",
        "colab": {
          "base_uri": "https://localhost:8080/",
          "height": 260
        },
        "outputId": "35a4cb44-2cc9-4a58-d05b-141c36934a62"
      },
      "source": [
        "varnames = ['income']\n",
        "X = df[varnames].values\n",
        "y = df['choice'].values\n",
        "\n",
        "model = ChoiceModel()\n",
        "model.fit(X,y,isvars=['income'],alternatives=['beach','boat','charter','pier'],varnames= varnames)\n",
        "model.summary()"
      ],
      "execution_count": 14,
      "outputs": [
        {
          "output_type": "stream",
          "text": [
            "Optimization succesfully completed after 7 iterations. Use .summary() to see the estimated values\n",
            "-----------------------------------------------------------------------------------------\n",
            "Coefficient          \tEstimate \tStd. Error \tz-value \tPr(>|z|)     \n",
            "-----------------------------------------------------------------------------------------\n",
            "_intercept.boat  \t0.7389145443 \t0.1946426257 \t3.7962627224 \t0.0006147513 **   \n",
            "_intercept.charter \t1.3412894454 \t0.1909360702 \t7.0248091101 \t0.0000000000 **   \n",
            "_intercept.pier  \t0.8141524803 \t0.2246575748 \t3.6239707520 \t0.0011570320 *    \n",
            "income.boat      \t0.0000919062 \t0.0000393881 \t2.3333488935 \t0.0526384330      \n",
            "income.charter   \t-0.0000316409 \t0.0000403088 \t-0.7849622928 \t0.5860992916      \n",
            "income.pier      \t-0.0001434047 \t0.0000519035 \t-2.7629112591 \t0.0177071168 .    \n",
            "-----------------------------------------------------------------------------------------\n",
            "Significance:  *** 0    ** 0.001    * 0.01    . 0.05\n",
            "\n",
            "Log-Likelihood= -1477.151\n"
          ],
          "name": "stdout"
        }
      ]
    }
  ]
}
