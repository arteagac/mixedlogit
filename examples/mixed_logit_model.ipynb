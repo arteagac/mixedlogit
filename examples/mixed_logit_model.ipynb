{
  "nbformat": 4,
  "nbformat_minor": 0,
  "metadata": {
    "colab": {
      "name": "mixed_logit_model.ipynb",
      "provenance": [],
      "collapsed_sections": [],
      "include_colab_link": true
    },
    "kernelspec": {
      "name": "python3",
      "display_name": "Python 3"
    },
    "accelerator": "GPU"
  },
  "cells": [
    {
      "cell_type": "markdown",
      "metadata": {
        "id": "view-in-github",
        "colab_type": "text"
      },
      "source": [
        "<a href=\"https://colab.research.google.com/github/arteagac/mixedlogit/blob/master/examples/mixed_logit_model.ipynb\" target=\"_parent\"><img src=\"https://colab.research.google.com/assets/colab-badge.svg\" alt=\"Open In Colab\"/></a>"
      ]
    },
    {
      "cell_type": "markdown",
      "metadata": {
        "id": "TJHlxbR5kEe-",
        "colab_type": "text"
      },
      "source": [
        "# Install the `mixedlogit` library"
      ]
    },
    {
      "cell_type": "code",
      "metadata": {
        "id": "V9wp9JfvjvkQ",
        "colab_type": "code",
        "colab": {
          "base_uri": "https://localhost:8080/",
          "height": 121
        },
        "outputId": "60133b3d-31c1-44b4-f685-b7735d308438"
      },
      "source": [
        "!pip install mixedlogit"
      ],
      "execution_count": 1,
      "outputs": [
        {
          "output_type": "stream",
          "text": [
            "Collecting mixedlogit\n",
            "  Downloading https://files.pythonhosted.org/packages/a4/50/4a32ecd08f1d0eccbb6c17661404075f29b6b06ea0177a752622e189b2fa/mixedlogit-0.0.2-py3-none-any.whl\n",
            "Requirement already satisfied: numpy>=1.13.1 in /usr/local/lib/python3.6/dist-packages (from mixedlogit) (1.18.5)\n",
            "Requirement already satisfied: scipy>=1.0.0 in /usr/local/lib/python3.6/dist-packages (from mixedlogit) (1.4.1)\n",
            "Installing collected packages: mixedlogit\n",
            "Successfully installed mixedlogit-0.0.2\n"
          ],
          "name": "stdout"
        }
      ]
    },
    {
      "cell_type": "markdown",
      "metadata": {
        "id": "dt6rAYtH3Djj",
        "colab_type": "text"
      },
      "source": [
        "# Electricity Dataset"
      ]
    },
    {
      "cell_type": "markdown",
      "metadata": {
        "id": "wOjSrftv3Gtm",
        "colab_type": "text"
      },
      "source": [
        "# Read data"
      ]
    },
    {
      "cell_type": "code",
      "metadata": {
        "id": "fLgHickp3IJw",
        "colab_type": "code",
        "colab": {}
      },
      "source": [
        "import pandas as pd\n",
        "import numpy as np\n",
        "df = pd.read_csv(\"https://raw.githubusercontent.com/timothyb0912/pylogit/master/examples/data/electricity_r_data_long.csv\")\n",
        "# Remove unbalanced panels (future versions will handle unbalanced panels)\n",
        "count_mix_by_id = np.unique(df.id.values, return_counts=True)\n",
        "df = df[~df.id.isin(count_mix_by_id[0][count_mix_by_id[1] != 48])] \n",
        "df[\"choice\"] = df[\"choice\"].astype(int) # The choice variable has to be a number\n",
        "\n",
        "varnames = [\"pf\", \"cl\", \"loc\", \"wk\", \"tod\", \"seas\"]\n",
        "X = df[varnames].values\n",
        "y = df['choice'].values\n",
        "isvars=  [] \n",
        "asvars= varnames\n",
        "alternatives =['beach','boat','charter','pier']"
      ],
      "execution_count": 2,
      "outputs": []
    },
    {
      "cell_type": "markdown",
      "metadata": {
        "id": "gFUpTIpU3-Oi",
        "colab_type": "text"
      },
      "source": [
        "## Fit the model"
      ]
    },
    {
      "cell_type": "code",
      "metadata": {
        "id": "It7kU3GE3XV0",
        "colab_type": "code",
        "colab": {
          "base_uri": "https://localhost:8080/",
          "height": 382
        },
        "outputId": "5baefeca-f7f4-4a5a-c215-e4270ae23b85"
      },
      "source": [
        "from mixedlogit import MixedLogit\n",
        "\n",
        "model = MixedLogit()\n",
        "model.fit(X, y, \n",
        "          varnames, \n",
        "          alternatives=alternatives, \n",
        "          asvars=varnames,\n",
        "          randvars={'pf': 'n','cl':'n','loc':'n','wk':'n','tod':'n','seas':'n'}, \n",
        "          mixby=df.id.values,\n",
        "          n_draws = 600)\n",
        "model.summary()"
      ],
      "execution_count": 3,
      "outputs": [
        {
          "output_type": "stream",
          "text": [
            "**** GPU Processing Enabled ****\n",
            "Estimation succesfully completed after 54 iterations. Use .summary() to see the estimated values\n",
            "--------------------------------------------------------------------------------\n",
            "Coefficient          \tEstimate \tStd.Err. \tz-val   \tP>|z|   \n",
            "--------------------------------------------------------------------------------\n",
            "pf                   \t-0.9881581 \t0.0282180 \t-35.018653 \t0.000000 ***  \n",
            "cl                   \t-0.2214258 \t0.0232726 \t-9.514449 \t0.000000 ***  \n",
            "loc                  \t2.3441905 \t0.1285696 \t18.232846 \t0.000000 ***  \n",
            "wk                   \t1.6755598 \t0.0907727 \t18.458848 \t0.000000 ***  \n",
            "tod                  \t-9.4701927 \t0.2522352 \t-37.545091 \t0.000000 ***  \n",
            "seas                 \t-9.6527236 \t0.2337246 \t-41.299570 \t0.000000 ***  \n",
            "sd.pf                \t-0.2092002 \t0.0145773 \t-14.351118 \t0.000000 ***  \n",
            "sd.cl                \t-0.3965299 \t0.0205752 \t-19.272252 \t0.000000 ***  \n",
            "sd.loc               \t-1.8385343 \t0.1221602 \t-15.050190 \t0.000000 ***  \n",
            "sd.wk                \t-1.1898076 \t0.0836636 \t-14.221324 \t0.000000 ***  \n",
            "sd.tod               \t-2.6248839 \t0.1706391 \t-15.382660 \t0.000000 ***  \n",
            "sd.seas              \t-1.5177820 \t0.1721766 \t-8.815264 \t0.000000 ***  \n",
            "--------------------------------------------------------------------------------\n",
            "Significance:  *** 0    ** 0.001    * 0.01    . 0.05\n",
            "\n",
            "Log-Likelihood= -3750.197\n"
          ],
          "name": "stdout"
        }
      ]
    },
    {
      "cell_type": "markdown",
      "metadata": {
        "id": "r9gxNL0XePRc",
        "colab_type": "text"
      },
      "source": [
        "# Fishing Dataset"
      ]
    },
    {
      "cell_type": "markdown",
      "metadata": {
        "id": "cqBJWh8eOQDp",
        "colab_type": "text"
      },
      "source": [
        "## Read data"
      ]
    },
    {
      "cell_type": "code",
      "metadata": {
        "id": "9jDr3PIveaG8",
        "colab_type": "code",
        "colab": {}
      },
      "source": [
        "import pandas as pd\n",
        "df = pd.read_csv(\"https://raw.githubusercontent.com/arteagac/mixedlogit/master/examples/data/fishing_long.csv\")\n",
        "\n",
        "varnames = ['price','catch']\n",
        "X = df[varnames].values\n",
        "y = df['choice'].values"
      ],
      "execution_count": 4,
      "outputs": []
    },
    {
      "cell_type": "markdown",
      "metadata": {
        "id": "rffV7cx8ORpP",
        "colab_type": "text"
      },
      "source": [
        "## Fit model"
      ]
    },
    {
      "cell_type": "code",
      "metadata": {
        "id": "FIZwBe0zedfh",
        "colab_type": "code",
        "colab": {
          "base_uri": "https://localhost:8080/",
          "height": 243
        },
        "outputId": "c6f82756-bad0-48bf-e9e6-9e52c283fcb2"
      },
      "source": [
        "from mixedlogit import MixedLogit\n",
        "\n",
        "model = MixedLogit()\n",
        "model.fit(X, y, varnames= varnames,\n",
        "          asvars=['price', 'catch'],\n",
        "          alternatives=['beach', 'boat', 'charter', 'pier'],\n",
        "          randvars = {'price': 'n', 'catch': 'n'})\n",
        "model.summary()"
      ],
      "execution_count": 5,
      "outputs": [
        {
          "output_type": "stream",
          "text": [
            "**** GPU Processing Enabled ****\n",
            "Estimation succesfully completed after 27 iterations. Use .summary() to see the estimated values\n",
            "--------------------------------------------------------------------------------\n",
            "Coefficient          \tEstimate \tStd.Err. \tz-val   \tP>|z|   \n",
            "--------------------------------------------------------------------------------\n",
            "price                \t-0.0274061 \t0.0024847 \t-11.029837 \t0.000000 ***  \n",
            "catch                \t1.3345446 \t0.1726896 \t7.727997 \t0.000000 **   \n",
            "sd.price             \t0.0104608 \t0.0021156 \t4.944513 \t0.000004 **   \n",
            "sd.catch             \t1.5857199 \t0.5797202 \t2.735319 \t0.019095 .    \n",
            "--------------------------------------------------------------------------------\n",
            "Significance:  *** 0    ** 0.001    * 0.01    . 0.05\n",
            "\n",
            "Log-Likelihood= -1300.227\n"
          ],
          "name": "stdout"
        }
      ]
    },
    {
      "cell_type": "markdown",
      "metadata": {
        "id": "mWU80LmcODPY",
        "colab_type": "text"
      },
      "source": [
        "# Car Dataset"
      ]
    },
    {
      "cell_type": "markdown",
      "metadata": {
        "id": "SoSyQfjqkNU3",
        "colab_type": "text"
      },
      "source": [
        "## Read data"
      ]
    },
    {
      "cell_type": "code",
      "metadata": {
        "id": "v8AAMruCj8tt",
        "colab_type": "code",
        "colab": {}
      },
      "source": [
        "import pandas as pd\n",
        "import numpy as np\n",
        "from mixedlogit import MixedLogit\n",
        "\n",
        "df = pd.read_csv(\"https://raw.githubusercontent.com/arteagac/mixedlogit/master/examples/data/car100_long.csv\")\n",
        "# Remove unbalanced panels (future versions will handle unbalanced panels)\n",
        "count_mix_by_id = np.unique(df.person_id.values, return_counts=True)\n",
        "df = df[~df.person_id.isin(count_mix_by_id[0][count_mix_by_id[1] != 45])] \n",
        "\n",
        "df.price = -1*df.price/10000\n",
        "df.operating_cost = -1*df.operating_cost\n",
        "\n",
        "varnames = ['high_performance','medium_performance','price', 'operating_cost',\n",
        "            'range', 'electric', 'hybrid'] \n",
        "\n",
        "X = df[varnames].values\n",
        "y = df['choice'].values"
      ],
      "execution_count": 6,
      "outputs": []
    },
    {
      "cell_type": "markdown",
      "metadata": {
        "id": "_ZQf9DFKFE5j",
        "colab_type": "text"
      },
      "source": [
        "## Fit the model"
      ]
    },
    {
      "cell_type": "code",
      "metadata": {
        "id": "_MhfvmWgFCX6",
        "colab_type": "code",
        "colab": {
          "base_uri": "https://localhost:8080/",
          "height": 382
        },
        "outputId": "048f7694-21bd-454e-9c59-ad57dc850963"
      },
      "source": [
        "np.random.seed(0)\n",
        "model = MixedLogit()\n",
        "model.fit(X, y, \n",
        "          alternatives=['car','bus','bike'],\n",
        "          varnames = varnames, \n",
        "          asvars = varnames,\n",
        "          randvars = {'price': 'ln', 'operating_cost': 'n',\n",
        "                      'range': 'ln', 'electric':'n', 'hybrid': 'n'}, \n",
        "          mixby = df.person_id.values, #Panel column\n",
        "          n_draws = 600) \n",
        "model.summary()"
      ],
      "execution_count": 7,
      "outputs": [
        {
          "output_type": "stream",
          "text": [
            "**** GPU Processing Enabled ****\n",
            "Estimation succesfully completed after 42 iterations. Use .summary() to see the estimated values\n",
            "--------------------------------------------------------------------------------\n",
            "Coefficient          \tEstimate \tStd.Err. \tz-val   \tP>|z|   \n",
            "--------------------------------------------------------------------------------\n",
            "high_performance     \t0.0616266 \t0.0957860 \t0.643378 \t0.645867      \n",
            "medium_performance   \t0.5658329 \t0.0995584 \t5.683427 \t0.000001 **   \n",
            "price                \t-0.7487492 \t0.1473184 \t-5.082522 \t0.000008 **   \n",
            "operating_cost       \t0.0106943 \t0.0067425 \t1.586101 \t0.226961      \n",
            "range                \t-0.7585654 \t0.5148421 \t-1.473394 \t0.269021      \n",
            "electric             \t-1.4404238 \t0.3305194 \t-4.358061 \t0.000127 **   \n",
            "hybrid               \t0.7649744 \t0.1651258 \t4.632678 \t0.000046 **   \n",
            "sd.price             \t0.9499825 \t0.1623691 \t5.850760 \t0.000000 **   \n",
            "sd.operating_cost    \t0.0349346 \t0.0059965 \t5.825881 \t0.000000 **   \n",
            "sd.range             \t0.6218826 \t0.3824121 \t1.626210 \t0.213025      \n",
            "sd.electric          \t-0.9318237 \t0.3123244 \t-2.983512 \t0.010823 .    \n",
            "sd.hybrid            \t-0.6732057 \t0.1887627 \t-3.566413 \t0.001918 *    \n",
            "--------------------------------------------------------------------------------\n",
            "Significance:  *** 0    ** 0.001    * 0.01    . 0.05\n",
            "\n",
            "Log-Likelihood= -1242.921\n"
          ],
          "name": "stdout"
        }
      ]
    }
  ]
}