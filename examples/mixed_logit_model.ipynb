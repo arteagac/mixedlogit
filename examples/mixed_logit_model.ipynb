{
  "nbformat": 4,
  "nbformat_minor": 0,
  "metadata": {
    "colab": {
      "name": "mixed_logit_model.ipynb",
      "provenance": [],
      "include_colab_link": true
    },
    "kernelspec": {
      "name": "python3",
      "display_name": "Python 3"
    },
    "accelerator": "GPU"
  },
  "cells": [
    {
      "cell_type": "markdown",
      "metadata": {
        "id": "view-in-github",
        "colab_type": "text"
      },
      "source": [
        "<a href=\"https://colab.research.google.com/github/arteagac/mixedlogit/blob/master/examples/mixed_logit_model.ipynb\" target=\"_parent\"><img src=\"https://colab.research.google.com/assets/colab-badge.svg\" alt=\"Open In Colab\"/></a>"
      ]
    },
    {
      "cell_type": "markdown",
      "metadata": {
        "id": "TJHlxbR5kEe-",
        "colab_type": "text"
      },
      "source": [
        "# Install the `mixedlogit` library"
      ]
    },
    {
      "cell_type": "code",
      "metadata": {
        "id": "V9wp9JfvjvkQ",
        "colab_type": "code",
        "colab": {
          "base_uri": "https://localhost:8080/",
          "height": 225
        },
        "outputId": "7feaaa79-0e02-444d-ac5e-97d91fcb6211"
      },
      "source": [
        "!pip install git+https://github.com/arteagac/mixedlogit.git"
      ],
      "execution_count": 1,
      "outputs": [
        {
          "output_type": "stream",
          "text": [
            "Collecting git+https://github.com/arteagac/mixedlogit.git\n",
            "  Cloning https://github.com/arteagac/mixedlogit.git to /tmp/pip-req-build-237k0ltz\n",
            "  Running command git clone -q https://github.com/arteagac/mixedlogit.git /tmp/pip-req-build-237k0ltz\n",
            "Requirement already satisfied: numpy>=1.13.1 in /usr/local/lib/python3.6/dist-packages (from mixedlogit==0.0.1) (1.18.5)\n",
            "Requirement already satisfied: scipy>=1.0.0 in /usr/local/lib/python3.6/dist-packages (from mixedlogit==0.0.1) (1.4.1)\n",
            "Building wheels for collected packages: mixedlogit\n",
            "  Building wheel for mixedlogit (setup.py) ... \u001b[?25l\u001b[?25hdone\n",
            "  Created wheel for mixedlogit: filename=mixedlogit-0.0.1-cp36-none-any.whl size=10006 sha256=ed3fe12977eb2043cca3b35b2da09935793d55a88c526d7c010b3f2d55feed0e\n",
            "  Stored in directory: /tmp/pip-ephem-wheel-cache-f2ty4is_/wheels/92/dc/61/7a9e34e10dfbd8e9e181e01018f3d06c440a7ccb287c35727c\n",
            "Successfully built mixedlogit\n",
            "Installing collected packages: mixedlogit\n",
            "Successfully installed mixedlogit-0.0.1\n"
          ],
          "name": "stdout"
        }
      ]
    },
    {
      "cell_type": "markdown",
      "metadata": {
        "id": "SoSyQfjqkNU3",
        "colab_type": "text"
      },
      "source": [
        "# Run Analysis"
      ]
    },
    {
      "cell_type": "code",
      "metadata": {
        "id": "v8AAMruCj8tt",
        "colab_type": "code",
        "colab": {
          "base_uri": "https://localhost:8080/",
          "height": 382
        },
        "outputId": "844195d9-299d-447d-be41-c8d5a615362a"
      },
      "source": [
        "import pandas as pd\n",
        "import numpy as np\n",
        "from mixedlogit import ChoiceModel\n",
        "\n",
        "df = pd.read_csv(\"https://raw.githubusercontent.com/arteagac/mixedlogit/master/examples/data/car100_long.csv\")\n",
        "# Remove unbalanced panels (future versions could handle unbalanced panels)\n",
        "count_mix_by_id = np.unique(df.person_id.values, return_counts=True)\n",
        "df = df[~df.person_id.isin(count_mix_by_id[0][count_mix_by_id[1] != 45])] \n",
        "\n",
        "df.price = -1*df.price/10000\n",
        "df.operating_cost = -1*df.operating_cost\n",
        "\n",
        "varnames = ['high_performance','medium_performance','price', 'operating_cost', 'range', 'electric', 'hybrid'] \n",
        "\n",
        "X = df[varnames].values\n",
        "y = df['choice'].values\n",
        "np.random.seed(0)\n",
        "model = ChoiceModel()\n",
        "model.fit(X, y, \n",
        "          alternatives=['car','bus','bike'],\n",
        "          varnames = varnames, \n",
        "          asvars = varnames,\n",
        "          randvars = {'price': 'ln', 'operating_cost': 'ln', 'range': 'ln', 'electric':'n', 'hybrid': 'n'}, \n",
        "          mixby = df.person_id.values, #Panel column\n",
        "          n_draws = 200) \n",
        "model.summary()"
      ],
      "execution_count": 4,
      "outputs": [
        {
          "output_type": "stream",
          "text": [
            "**** GPU Processing Enabled ****\n",
            "Optimization succesfully completed after 97 iterations. Use .summary() to see the estimated values\n",
            "----------------------------------------------------------------------------------------\n",
            "Coefficient          \tEstimate \tStd. Error \tz-value \tP(>|z|)     \n",
            "----------------------------------------------------------------------------------------\n",
            "high_performanc  \t0.0581258681 \t0.0921230733 \t0.6309588470 \t0.6510308767      \n",
            "medium_performa  \t0.5498554535 \t0.0947653553 \t5.8022834571 \t0.0000003852 **   \n",
            "price            \t-0.7640808107 \t0.1360505800 \t-5.6161525403 \t0.0000008551 **   \n",
            "operating_cost   \t-5.1508522972 \t0.6494586812 \t-7.9309930657 \t0.0000000000 **   \n",
            "range            \t-0.6383849054 \t0.3912869695 \t-1.6315005488 \t0.2112285659      \n",
            "electric         \t-1.6761560341 \t0.3157280530 \t-5.3088600086 \t0.0000030987 **   \n",
            "hybrid           \t0.6228442091 \t0.1490445390 \t4.1789133195 \t0.0002429909 **   \n",
            "sd.price         \t-0.8981552982 \t0.1055708274 \t-8.5076087834 \t0.0000000000 **   \n",
            "sd.operating_co  \t-2.0409351759 \t0.4910376764 \t-4.1563718512 \t0.0002632648 **   \n",
            "sd.range         \t0.5081423550 \t0.1745971471 \t2.9103703205 \t0.0132117913 .    \n",
            "sd.electric      \t1.0389429307 \t0.2017786123 \t5.1489249484 \t0.0000059637 **   \n",
            "sd.hybrid        \t-0.7900142488 \t0.1577431488 \t-5.0082317675 \t0.0000105099 **   \n",
            "----------------------------------------------------------------------------------------\n",
            "Significance:  *** 0    ** 0.001    * 0.01    . 0.05\n",
            "\n",
            "Log-Likelihood= -1251.124\n"
          ],
          "name": "stdout"
        }
      ]
    }
  ]
}