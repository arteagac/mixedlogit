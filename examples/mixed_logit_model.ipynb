{
  "nbformat": 4,
  "nbformat_minor": 0,
  "metadata": {
    "colab": {
      "name": "mixed_logit_library.ipynb",
      "provenance": []
    },
    "kernelspec": {
      "name": "python3",
      "display_name": "Python 3"
    }
  },
  "cells": [
    {
      "cell_type": "markdown",
      "metadata": {
        "id": "TJHlxbR5kEe-",
        "colab_type": "text"
      },
      "source": [
        "# Install the `mixedlogit` library"
      ]
    },
    {
      "cell_type": "code",
      "metadata": {
        "id": "V9wp9JfvjvkQ",
        "colab_type": "code",
        "colab": {
          "base_uri": "https://localhost:8080/",
          "height": 225
        },
        "outputId": "7d32c244-8684-4686-f961-c3ad9e4d168d"
      },
      "source": [
        "!pip install git+https://github.com/arteagac/mixedlogit.git"
      ],
      "execution_count": 1,
      "outputs": [
        {
          "output_type": "stream",
          "text": [
            "Collecting git+https://github.com/arteagac/mixedlogit.git\n",
            "  Cloning https://github.com/arteagac/mixedlogit.git to /tmp/pip-req-build-708f4e3j\n",
            "  Running command git clone -q https://github.com/arteagac/mixedlogit.git /tmp/pip-req-build-708f4e3j\n",
            "Requirement already satisfied: numpy>=1.13.1 in /usr/local/lib/python3.6/dist-packages (from mixedlogit==0.0.1) (1.18.5)\n",
            "Requirement already satisfied: scipy>=1.0.0 in /usr/local/lib/python3.6/dist-packages (from mixedlogit==0.0.1) (1.4.1)\n",
            "Building wheels for collected packages: mixedlogit\n",
            "  Building wheel for mixedlogit (setup.py) ... \u001b[?25l\u001b[?25hdone\n",
            "  Created wheel for mixedlogit: filename=mixedlogit-0.0.1-cp36-none-any.whl size=9578 sha256=91c4ca9cbb12f65f4da90c7088cb9b9a2a64dc4d0788c0bb3994270e2067fc16\n",
            "  Stored in directory: /tmp/pip-ephem-wheel-cache-31sj501s/wheels/92/dc/61/7a9e34e10dfbd8e9e181e01018f3d06c440a7ccb287c35727c\n",
            "Successfully built mixedlogit\n",
            "Installing collected packages: mixedlogit\n",
            "Successfully installed mixedlogit-0.0.1\n"
          ],
          "name": "stdout"
        }
      ]
    },
    {
      "cell_type": "markdown",
      "metadata": {
        "id": "SoSyQfjqkNU3",
        "colab_type": "text"
      },
      "source": [
        "# Run Analysis"
      ]
    },
    {
      "cell_type": "code",
      "metadata": {
        "id": "v8AAMruCj8tt",
        "colab_type": "code",
        "colab": {
          "base_uri": "https://localhost:8080/",
          "height": 364
        },
        "outputId": "82118124-d9ec-45a0-f1aa-7c7b3df4da8b"
      },
      "source": [
        "import pandas as pd\n",
        "import numpy as np\n",
        "from mixedlogit import ChoiceModel\n",
        "\n",
        "df = pd.read_csv(\"https://raw.githubusercontent.com/arteagac/mixedlogit/master/examples/data/car100_long.csv\")\n",
        "# Remove unbalanced panels (future versions could handle unbalanced panels)\n",
        "count_mix_by_id = np.unique(df.person_id.values, return_counts=True)\n",
        "df = df[~df.person_id.isin(count_mix_by_id[0][count_mix_by_id[1] != 45])] \n",
        "\n",
        "df.price = -1*df.price/10000\n",
        "df.operating_cost = -1*df.operating_cost\n",
        "\n",
        "varnames = ['high_performance','medium_performance','price', 'operating_cost', 'range', 'electric', 'hybrid'] \n",
        "\n",
        "X = df[varnames].values\n",
        "y = df['choice'].values\n",
        "np.random.seed(0)\n",
        "model = ChoiceModel()\n",
        "model.fit(X, y, \n",
        "          alternatives=['car','bus','bike'],\n",
        "          varnames = varnames, \n",
        "          asvars = varnames,\n",
        "          randvars = {'price': 'ln', 'operating_cost': 'ln', 'range': 'ln', 'electric':'n', 'hybrid': 'n'}, \n",
        "          mixby = df.person_id.values, #Panel column\n",
        "          n_draws = 200) \n",
        "model.summary()"
      ],
      "execution_count": 2,
      "outputs": [
        {
          "output_type": "stream",
          "text": [
            "Optimization succesfully completed after 104 iterations. Use .summary() to see the estimated values\n",
            "----------------------------------------------------------------------------------------\n",
            "Coefficient          \tEstimate \tStd. Error \tz-value \tP(>|z|)     \n",
            "----------------------------------------------------------------------------------------\n",
            "high_performanc  \t0.0520734346 \t0.0891633594 \t0.5840227975 \t0.6699886446      \n",
            "medium_performa  \t0.5587378421 \t0.0930138399 \t6.0070398417 \t0.0000001580 **   \n",
            "price            \t-0.7817966230 \t0.1319342802 \t-5.9256519350 \t0.0000002255 **   \n",
            "operating_cost   \t-5.1030233214 \t0.5351255174 \t-9.5361240600 \t0.0000000000 **   \n",
            "range            \t-0.6696449045 \t0.3816192577 \t-1.7547461011 \t0.1721385632      \n",
            "electric         \t-1.6164951188 \t0.3154310956 \t-5.1247170664 \t0.0000065786 **   \n",
            "hybrid           \t0.6118745650 \t0.1448564631 \t4.2240059709 \t0.0002068152 **   \n",
            "sd.price         \t-0.9900852840 \t0.1395558705 \t-7.0945441447 \t0.0000000011 **   \n",
            "sd.operating_co  \t1.3037544015 \t0.2380559301 \t5.4766726495 \t0.0000015411 **   \n",
            "sd.range         \t-0.5093368471 \t0.1747787694 \t-2.9141803026 \t0.0130765952 .    \n",
            "sd.electric      \t-1.1383609753 \t0.1939581102 \t-5.8691073769 \t0.0000002884 **   \n",
            "sd.hybrid        \t0.7530244323 \t0.1627112735 \t4.6279794650 \t0.0000463799 **   \n",
            "----------------------------------------------------------------------------------------\n",
            "Significance:  *** 0    ** 0.001    * 0.01    . 0.05\n",
            "\n",
            "Log-Likelihood= -1252.538\n"
          ],
          "name": "stdout"
        }
      ]
    }
  ]
}